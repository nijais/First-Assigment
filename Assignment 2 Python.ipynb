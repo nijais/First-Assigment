{
 "cells": [
  {
   "cell_type": "code",
   "execution_count": 37,
   "id": "2af8da07-fe0d-4977-9485-4d1125a5e53d",
   "metadata": {},
   "outputs": [
    {
     "name": "stdin",
     "output_type": "stream",
     "text": [
      "Enter your percentage 67\n"
     ]
    },
    {
     "name": "stdout",
     "output_type": "stream",
     "text": [
      "Grade C\n"
     ]
    }
   ],
   "source": [
    "# Problem 1\n",
    "percent= float(input('Enter your percentage'))\n",
    "if a>90 and a<=100:\n",
    "    print('Grade A')\n",
    "elif 80<percent<=90:\n",
    "    print('Grade B')\n",
    "elif percent>=60 and percent<=80:\n",
    "    print('Grade C')\n",
    "elif percent>=0 and percent<60:\n",
    "    print('Grade D')\n",
    "else:\n",
    "    print ('Error')"
   ]
  },
  {
   "cell_type": "code",
   "execution_count": null,
   "id": "4b381ecd-5417-4f7d-9a93-5edb72e2c9dc",
   "metadata": {},
   "outputs": [],
   "source": []
  },
  {
   "cell_type": "code",
   "execution_count": 35,
   "id": "1660960c-9113-41b0-9e0a-cbdd3f5e885c",
   "metadata": {},
   "outputs": [
    {
     "name": "stdin",
     "output_type": "stream",
     "text": [
      "Enter cost price of your bike 688888\n"
     ]
    },
    {
     "name": "stdout",
     "output_type": "stream",
     "text": [
      "103333.2 Rs Road tax to be paid\n"
     ]
    }
   ],
   "source": [
    "# Problem 2\n",
    "price=int(input('Enter cost price of your bike'))\n",
    "if var>100000:\n",
    "    print(f'{price*.15 } Rs Road tax to be paid')\n",
    "elif var<=100000 and var>50000:\n",
    "    print(f'{price*.1} Rs Road tax to be paid')\n",
    "else :\n",
    "    print(f'{price*.05} Rs Road tax to be paid')"
   ]
  },
  {
   "cell_type": "code",
   "execution_count": null,
   "id": "2c4e1952-f24c-41ff-8587-e3d702d2a1fb",
   "metadata": {},
   "outputs": [],
   "source": []
  },
  {
   "cell_type": "code",
   "execution_count": 50,
   "id": "859bdf24-505e-42e9-90d3-4e7409a622ca",
   "metadata": {},
   "outputs": [
    {
     "name": "stdin",
     "output_type": "stream",
     "text": [
      "Enter City Name delhi\n"
     ]
    },
    {
     "name": "stdout",
     "output_type": "stream",
     "text": [
      "City = Delhi ,Monument= Red Fort\n"
     ]
    }
   ],
   "source": [
    "# Problem 3\n",
    "city= input('Enter City Name')\n",
    "city=city.capitalize()\n",
    "if city=='Delhi':\n",
    "    print(f'City = {city}, Monument = Red Fort')\n",
    "elif city=='Agra':\n",
    "    print(f'City = {city}, Monument = Taj Mahal')\n",
    "elif city=='Jaipur':\n",
    "    print(f'City = {city}, Monument = Jal Mahal')\n",
    "else:\n",
    "    print('Sorry, Currently we are working on to add some more new cities. Thanks for your patience')"
   ]
  },
  {
   "cell_type": "code",
   "execution_count": null,
   "id": "2f479842-8e0c-4898-ab41-870d76eea054",
   "metadata": {},
   "outputs": [],
   "source": []
  },
  {
   "cell_type": "code",
   "execution_count": 58,
   "id": "0e4b6906-295a-4cd2-8722-9e53c731e1a9",
   "metadata": {},
   "outputs": [
    {
     "name": "stdin",
     "output_type": "stream",
     "text": [
      "Enter number 24\n"
     ]
    },
    {
     "name": "stdout",
     "output_type": "stream",
     "text": [
      "1 times\n"
     ]
    }
   ],
   "source": [
    "# Problem 4\n",
    "no_of_times=0\n",
    "number = int(input('Enter number'))\n",
    "while number>10:\n",
    "    number/=3\n",
    "    no_of_times+=1\n",
    "print(f'{no_of_times} times')\n"
   ]
  },
  {
   "cell_type": "code",
   "execution_count": null,
   "id": "be12b5bc-a02c-4019-a315-297a2a82386b",
   "metadata": {},
   "outputs": [],
   "source": []
  },
  {
   "cell_type": "markdown",
   "id": "64a5e159-7807-4d2b-a3d6-f981ad8afd28",
   "metadata": {},
   "source": [
    "# Problem 5\n",
    "# In Python, a \"while\" loop is used to repeatedly execute a block of code as long as a certain condition is met.\n",
    "\n",
    "# The syntax for a while loop is as follows\n",
    "# while condition:\n",
    "    # code to be executed\n",
    "    \n",
    "# Here's an example that demonstrates how a while loop can be used to print the numbers from 1 to 10:\n",
    "# count = 1\n",
    "# while count <= 10:\n",
    "    print(count)\n",
    "    count += 1\n",
    "\n",
    "# Here are some reasons why to use a while loop:\n",
    "\n",
    "1. Flexibility: While loops are flexible because they can run for an indefinite number of iterations, depending on the condition. You can use a while loop when you don't know in advance how many times you need to repeat a block of code.\n",
    "\n",
    "2. Efficient handling of user input: You can use a while loop to repeatedly prompt a user for input until they provide valid input.\n",
    "\n",
    "3. Handling of real-time data: While loops are useful when you need to handle real-time data, such as reading data from a file or a network socket. You can use a while loop to read data until the end of the file or until the connection is closed.\n",
    "\n",
    "4. Conditional execution: With a while loop, you can conditionally execute a block of code as long as a certain condition is met. This is useful when you need to repeat an operation until a specific condition is satisfied, such as searching for a specific element in a list or computing the factorial of a number."
   ]
  },
  {
   "cell_type": "code",
   "execution_count": null,
   "id": "393d068e-7a5d-44f5-a654-3b13db14d059",
   "metadata": {},
   "outputs": [],
   "source": []
  },
  {
   "cell_type": "code",
   "execution_count": 110,
   "id": "032e04ce-e9ab-486f-936c-e6ed57e16e88",
   "metadata": {},
   "outputs": [
    {
     "name": "stdin",
     "output_type": "stream",
     "text": [
      "Enter number of row 10\n"
     ]
    },
    {
     "name": "stdout",
     "output_type": "stream",
     "text": [
      "* \n",
      "* * \n",
      "* * * \n",
      "* * * * \n",
      "* * * * * \n",
      "* * * * * * \n",
      "* * * * * * * \n",
      "* * * * * * * * \n",
      "* * * * * * * * * \n",
      "* * * * * * * * * * \n"
     ]
    }
   ],
   "source": [
    "# Problem 6\n",
    "# First Pattern\n",
    "row=int(input('Enter number of row'))\n",
    "var= 1\n",
    "while row>=var:\n",
    "    star=1\n",
    "    while star<=var:\n",
    "        print('*', end=\" \")\n",
    "        star+=1\n",
    "    print()\n",
    "    var+=1"
   ]
  },
  {
   "cell_type": "code",
   "execution_count": null,
   "id": "aabae044-644b-4b76-a5a5-49837770db6e",
   "metadata": {},
   "outputs": [],
   "source": []
  },
  {
   "cell_type": "code",
   "execution_count": 101,
   "id": "0c64e8ba-3dcf-41a5-a340-9a05f89ba8fa",
   "metadata": {},
   "outputs": [
    {
     "name": "stdin",
     "output_type": "stream",
     "text": [
      "Enter number of row 10\n"
     ]
    },
    {
     "name": "stdout",
     "output_type": "stream",
     "text": [
      "# # # # # # # # # # \n",
      "# # # # # # # # # \n",
      "# # # # # # # # \n",
      "# # # # # # # \n",
      "# # # # # # \n",
      "# # # # # \n",
      "# # # # \n",
      "# # # \n",
      "# # \n",
      "# \n"
     ]
    }
   ],
   "source": [
    "# second Pattern\n",
    "no_of_row=int(input('Enter number of row'))\n",
    "row= 0\n",
    "while no_of_row>row:\n",
    "    star=no_of_row-row\n",
    "    while star>0:\n",
    "        print('#', end=\" \")\n",
    "        star-=1\n",
    "    print()\n",
    "    row+=1"
   ]
  },
  {
   "cell_type": "code",
   "execution_count": null,
   "id": "1618c06a-a4c7-4fd1-9093-fe19a1e86682",
   "metadata": {},
   "outputs": [],
   "source": []
  },
  {
   "cell_type": "code",
   "execution_count": 102,
   "id": "ad19c075-da37-480f-b215-3319020a6954",
   "metadata": {},
   "outputs": [
    {
     "name": "stdin",
     "output_type": "stream",
     "text": [
      "Enter number of row 10\n"
     ]
    },
    {
     "name": "stdout",
     "output_type": "stream",
     "text": [
      "* \n",
      "* * \n",
      "* * * \n",
      "* * * * \n",
      "* * * * * \n",
      "* * * * * * \n",
      "* * * * * * * \n",
      "* * * * * * * * \n",
      "* * * * * * * * * \n",
      "* * * * * * * * * * \n",
      "* * * * * * * * * \n",
      "* * * * * * * * \n",
      "* * * * * * * \n",
      "* * * * * * \n",
      "* * * * * \n",
      "* * * * \n",
      "* * * \n",
      "* * \n",
      "* \n",
      "\n"
     ]
    }
   ],
   "source": [
    "# Third Pattern\n",
    "no_of_row=int(input('Enter number of row'))\n",
    "row=0\n",
    "while no_of_row>row:\n",
    "    star=0\n",
    "    while star<=row:\n",
    "        print('*',end=\" \")\n",
    "        star+=1\n",
    "    row+=1\n",
    "    print()\n",
    "row=1\n",
    "while no_of_row>=row:  \n",
    "    star=no_of_row-row\n",
    "    while star>0:\n",
    "        print('*',end=\" \")\n",
    "        star-=1\n",
    "    row+=1\n",
    "    print()\n",
    "    \n",
    "        "
   ]
  },
  {
   "cell_type": "code",
   "execution_count": null,
   "id": "414b7353-b8ad-4f6d-9f7e-c3d5fe5eda42",
   "metadata": {},
   "outputs": [],
   "source": []
  },
  {
   "cell_type": "code",
   "execution_count": 107,
   "id": "fa7215d4-cf9f-4052-8af3-9e8061fcad43",
   "metadata": {},
   "outputs": [
    {
     "name": "stdout",
     "output_type": "stream",
     "text": [
      "10 9 8 7 6 5 4 3 2 1 "
     ]
    }
   ],
   "source": [
    "# Problem 7 and 8\n",
    "number=10\n",
    "a=0\n",
    "while number>a:\n",
    "    print(number-a, end=\" \")\n",
    "    a+=1"
   ]
  },
  {
   "cell_type": "code",
   "execution_count": null,
   "id": "7d6bfbd2-d458-4f7a-a191-eb378bea29ad",
   "metadata": {},
   "outputs": [],
   "source": []
  },
  {
   "cell_type": "code",
   "execution_count": null,
   "id": "042bccfc-2cf5-4f62-9d4d-ff68e30c33f0",
   "metadata": {},
   "outputs": [],
   "source": []
  },
  {
   "cell_type": "code",
   "execution_count": null,
   "id": "bf882540-677f-4a08-883b-aec92446fc00",
   "metadata": {},
   "outputs": [],
   "source": []
  }
 ],
 "metadata": {
  "kernelspec": {
   "display_name": "Python 3 (ipykernel)",
   "language": "python",
   "name": "python3"
  },
  "language_info": {
   "codemirror_mode": {
    "name": "ipython",
    "version": 3
   },
   "file_extension": ".py",
   "mimetype": "text/x-python",
   "name": "python",
   "nbconvert_exporter": "python",
   "pygments_lexer": "ipython3",
   "version": "3.10.8"
  }
 },
 "nbformat": 4,
 "nbformat_minor": 5
}
